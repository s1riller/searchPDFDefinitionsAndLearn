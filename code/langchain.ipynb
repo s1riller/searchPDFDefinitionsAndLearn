{
 "cells": [
  {
   "cell_type": "code",
   "execution_count": 1,
   "metadata": {},
   "outputs": [
    {
     "name": "stdout",
     "output_type": "stream",
     "text": [
      "^C\n"
     ]
    }
   ],
   "source": [
    "!pip install --upgrade langchain openai -q\n",
    "!pip install unstructured -q\n",
    "!pip install unstructured[local-inference] -q\n",
    "!pip install detectron2@git+https://github.com/facebookresearch/detectron2.git@v0.6#egg=detectron2 -q\n",
    "!apt-get install poppler-utils"
   ]
  },
  {
   "cell_type": "code",
   "execution_count": 9,
   "metadata": {},
   "outputs": [
    {
     "name": "stdout",
     "output_type": "stream",
     "text": [
      "Requirement already satisfied: openai in d:\\projects\\searchpdfdefinitionsandlearn\\.venv\\lib\\site-packages (1.30.1)\n",
      "Requirement already satisfied: pinecone in d:\\projects\\searchpdfdefinitionsandlearn\\.venv\\lib\\site-packages (4.0.0)\n",
      "Collecting langchain-community\n",
      "  Downloading langchain_community-0.2.0-py3-none-any.whl.metadata (8.8 kB)\n",
      "Requirement already satisfied: anyio<5,>=3.5.0 in d:\\projects\\searchpdfdefinitionsandlearn\\.venv\\lib\\site-packages (from openai) (4.3.0)\n",
      "Requirement already satisfied: distro<2,>=1.7.0 in d:\\projects\\searchpdfdefinitionsandlearn\\.venv\\lib\\site-packages (from openai) (1.9.0)\n",
      "Requirement already satisfied: httpx<1,>=0.23.0 in d:\\projects\\searchpdfdefinitionsandlearn\\.venv\\lib\\site-packages (from openai) (0.27.0)\n",
      "Requirement already satisfied: pydantic<3,>=1.9.0 in d:\\projects\\searchpdfdefinitionsandlearn\\.venv\\lib\\site-packages (from openai) (2.7.1)\n",
      "Requirement already satisfied: sniffio in d:\\projects\\searchpdfdefinitionsandlearn\\.venv\\lib\\site-packages (from openai) (1.3.1)\n",
      "Requirement already satisfied: tqdm>4 in d:\\projects\\searchpdfdefinitionsandlearn\\.venv\\lib\\site-packages (from openai) (4.66.4)\n",
      "Requirement already satisfied: typing-extensions<5,>=4.7 in d:\\projects\\searchpdfdefinitionsandlearn\\.venv\\lib\\site-packages (from openai) (4.9.0)\n",
      "Requirement already satisfied: certifi>=2019.11.17 in d:\\projects\\searchpdfdefinitionsandlearn\\.venv\\lib\\site-packages (from pinecone) (2024.2.2)\n",
      "Requirement already satisfied: urllib3>=1.26.5 in d:\\projects\\searchpdfdefinitionsandlearn\\.venv\\lib\\site-packages (from pinecone) (2.2.1)\n",
      "Requirement already satisfied: PyYAML>=5.3 in d:\\projects\\searchpdfdefinitionsandlearn\\.venv\\lib\\site-packages (from langchain-community) (6.0.1)\n",
      "Requirement already satisfied: SQLAlchemy<3,>=1.4 in d:\\projects\\searchpdfdefinitionsandlearn\\.venv\\lib\\site-packages (from langchain-community) (2.0.30)\n",
      "Requirement already satisfied: aiohttp<4.0.0,>=3.8.3 in d:\\projects\\searchpdfdefinitionsandlearn\\.venv\\lib\\site-packages (from langchain-community) (3.9.5)\n",
      "Requirement already satisfied: dataclasses-json<0.7,>=0.5.7 in d:\\projects\\searchpdfdefinitionsandlearn\\.venv\\lib\\site-packages (from langchain-community) (0.6.6)\n",
      "Requirement already satisfied: langchain<0.3.0,>=0.2.0 in d:\\projects\\searchpdfdefinitionsandlearn\\.venv\\lib\\site-packages (from langchain-community) (0.2.0)\n",
      "Requirement already satisfied: langchain-core<0.3.0,>=0.2.0 in d:\\projects\\searchpdfdefinitionsandlearn\\.venv\\lib\\site-packages (from langchain-community) (0.2.0)\n",
      "Requirement already satisfied: langsmith<0.2.0,>=0.1.0 in d:\\projects\\searchpdfdefinitionsandlearn\\.venv\\lib\\site-packages (from langchain-community) (0.1.59)\n",
      "Requirement already satisfied: numpy<2,>=1 in d:\\projects\\searchpdfdefinitionsandlearn\\.venv\\lib\\site-packages (from langchain-community) (1.26.3)\n",
      "Requirement already satisfied: requests<3,>=2 in d:\\projects\\searchpdfdefinitionsandlearn\\.venv\\lib\\site-packages (from langchain-community) (2.31.0)\n",
      "Requirement already satisfied: tenacity<9.0.0,>=8.1.0 in d:\\projects\\searchpdfdefinitionsandlearn\\.venv\\lib\\site-packages (from langchain-community) (8.3.0)\n",
      "Requirement already satisfied: aiosignal>=1.1.2 in d:\\projects\\searchpdfdefinitionsandlearn\\.venv\\lib\\site-packages (from aiohttp<4.0.0,>=3.8.3->langchain-community) (1.3.1)\n",
      "Requirement already satisfied: attrs>=17.3.0 in d:\\projects\\searchpdfdefinitionsandlearn\\.venv\\lib\\site-packages (from aiohttp<4.0.0,>=3.8.3->langchain-community) (23.2.0)\n",
      "Requirement already satisfied: frozenlist>=1.1.1 in d:\\projects\\searchpdfdefinitionsandlearn\\.venv\\lib\\site-packages (from aiohttp<4.0.0,>=3.8.3->langchain-community) (1.4.1)\n",
      "Requirement already satisfied: multidict<7.0,>=4.5 in d:\\projects\\searchpdfdefinitionsandlearn\\.venv\\lib\\site-packages (from aiohttp<4.0.0,>=3.8.3->langchain-community) (6.0.5)\n",
      "Requirement already satisfied: yarl<2.0,>=1.0 in d:\\projects\\searchpdfdefinitionsandlearn\\.venv\\lib\\site-packages (from aiohttp<4.0.0,>=3.8.3->langchain-community) (1.9.4)\n",
      "Requirement already satisfied: idna>=2.8 in d:\\projects\\searchpdfdefinitionsandlearn\\.venv\\lib\\site-packages (from anyio<5,>=3.5.0->openai) (3.7)\n",
      "Requirement already satisfied: marshmallow<4.0.0,>=3.18.0 in d:\\projects\\searchpdfdefinitionsandlearn\\.venv\\lib\\site-packages (from dataclasses-json<0.7,>=0.5.7->langchain-community) (3.21.2)\n",
      "Requirement already satisfied: typing-inspect<1,>=0.4.0 in d:\\projects\\searchpdfdefinitionsandlearn\\.venv\\lib\\site-packages (from dataclasses-json<0.7,>=0.5.7->langchain-community) (0.9.0)\n",
      "Requirement already satisfied: httpcore==1.* in d:\\projects\\searchpdfdefinitionsandlearn\\.venv\\lib\\site-packages (from httpx<1,>=0.23.0->openai) (1.0.5)\n",
      "Requirement already satisfied: h11<0.15,>=0.13 in d:\\projects\\searchpdfdefinitionsandlearn\\.venv\\lib\\site-packages (from httpcore==1.*->httpx<1,>=0.23.0->openai) (0.14.0)\n",
      "Requirement already satisfied: langchain-text-splitters<0.3.0,>=0.2.0 in d:\\projects\\searchpdfdefinitionsandlearn\\.venv\\lib\\site-packages (from langchain<0.3.0,>=0.2.0->langchain-community) (0.2.0)\n",
      "Requirement already satisfied: jsonpatch<2.0,>=1.33 in d:\\projects\\searchpdfdefinitionsandlearn\\.venv\\lib\\site-packages (from langchain-core<0.3.0,>=0.2.0->langchain-community) (1.33)\n",
      "Requirement already satisfied: packaging<24.0,>=23.2 in d:\\projects\\searchpdfdefinitionsandlearn\\.venv\\lib\\site-packages (from langchain-core<0.3.0,>=0.2.0->langchain-community) (23.2)\n",
      "Requirement already satisfied: orjson<4.0.0,>=3.9.14 in d:\\projects\\searchpdfdefinitionsandlearn\\.venv\\lib\\site-packages (from langsmith<0.2.0,>=0.1.0->langchain-community) (3.10.3)\n",
      "Requirement already satisfied: annotated-types>=0.4.0 in d:\\projects\\searchpdfdefinitionsandlearn\\.venv\\lib\\site-packages (from pydantic<3,>=1.9.0->openai) (0.6.0)\n",
      "Requirement already satisfied: pydantic-core==2.18.2 in d:\\projects\\searchpdfdefinitionsandlearn\\.venv\\lib\\site-packages (from pydantic<3,>=1.9.0->openai) (2.18.2)\n",
      "Requirement already satisfied: charset-normalizer<4,>=2 in d:\\projects\\searchpdfdefinitionsandlearn\\.venv\\lib\\site-packages (from requests<3,>=2->langchain-community) (3.3.2)\n",
      "Requirement already satisfied: greenlet!=0.4.17 in d:\\projects\\searchpdfdefinitionsandlearn\\.venv\\lib\\site-packages (from SQLAlchemy<3,>=1.4->langchain-community) (3.0.3)\n",
      "Requirement already satisfied: colorama in d:\\projects\\searchpdfdefinitionsandlearn\\.venv\\lib\\site-packages (from tqdm>4->openai) (0.4.6)\n",
      "Requirement already satisfied: jsonpointer>=1.9 in d:\\projects\\searchpdfdefinitionsandlearn\\.venv\\lib\\site-packages (from jsonpatch<2.0,>=1.33->langchain-core<0.3.0,>=0.2.0->langchain-community) (2.4)\n",
      "Requirement already satisfied: mypy-extensions>=0.3.0 in d:\\projects\\searchpdfdefinitionsandlearn\\.venv\\lib\\site-packages (from typing-inspect<1,>=0.4.0->dataclasses-json<0.7,>=0.5.7->langchain-community) (1.0.0)\n",
      "Downloading langchain_community-0.2.0-py3-none-any.whl (2.1 MB)\n",
      "   ---------------------------------------- 0.0/2.1 MB ? eta -:--:--\n",
      "   ---------------------------------------- 0.0/2.1 MB ? eta -:--:--\n",
      "    --------------------------------------- 0.0/2.1 MB 330.3 kB/s eta 0:00:07\n",
      "    --------------------------------------- 0.0/2.1 MB 330.3 kB/s eta 0:00:07\n",
      "    --------------------------------------- 0.0/2.1 MB 245.8 kB/s eta 0:00:09\n",
      "   - -------------------------------------- 0.1/2.1 MB 403.5 kB/s eta 0:00:06\n",
      "   -- ------------------------------------- 0.1/2.1 MB 450.6 kB/s eta 0:00:05\n",
      "   -- ------------------------------------- 0.2/2.1 MB 510.2 kB/s eta 0:00:04\n",
      "   --- ------------------------------------ 0.2/2.1 MB 565.6 kB/s eta 0:00:04\n",
      "   ---- ----------------------------------- 0.2/2.1 MB 625.1 kB/s eta 0:00:04\n",
      "   ---- ----------------------------------- 0.2/2.1 MB 625.1 kB/s eta 0:00:04\n",
      "   ------ --------------------------------- 0.3/2.1 MB 655.9 kB/s eta 0:00:03\n",
      "   --------- ------------------------------ 0.5/2.1 MB 942.1 kB/s eta 0:00:02\n",
      "   --------- ------------------------------ 0.5/2.1 MB 942.1 kB/s eta 0:00:02\n",
      "   --------- ------------------------------ 0.5/2.1 MB 786.4 kB/s eta 0:00:03\n",
      "   ----------- ---------------------------- 0.6/2.1 MB 874.1 kB/s eta 0:00:02\n",
      "   ------------- -------------------------- 0.7/2.1 MB 982.7 kB/s eta 0:00:02\n",
      "   ---------------- ----------------------- 0.9/2.1 MB 1.1 MB/s eta 0:00:02\n",
      "   ----------------- ---------------------- 0.9/2.1 MB 1.2 MB/s eta 0:00:01\n",
      "   -------------------- ------------------- 1.1/2.1 MB 1.3 MB/s eta 0:00:01\n",
      "   ---------------------- ----------------- 1.2/2.1 MB 1.3 MB/s eta 0:00:01\n",
      "   ------------------------ --------------- 1.3/2.1 MB 1.4 MB/s eta 0:00:01\n",
      "   --------------------------- ------------ 1.4/2.1 MB 1.4 MB/s eta 0:00:01\n",
      "   ----------------------------- ---------- 1.6/2.1 MB 1.5 MB/s eta 0:00:01\n",
      "   ------------------------------- -------- 1.7/2.1 MB 1.5 MB/s eta 0:00:01\n",
      "   --------------------------------- ------ 1.8/2.1 MB 1.5 MB/s eta 0:00:01\n",
      "   ----------------------------------- ---- 1.9/2.1 MB 1.6 MB/s eta 0:00:01\n",
      "   ------------------------------------- -- 2.0/2.1 MB 1.6 MB/s eta 0:00:01\n",
      "   ---------------------------------------  2.1/2.1 MB 1.6 MB/s eta 0:00:01\n",
      "   ---------------------------------------- 2.1/2.1 MB 1.6 MB/s eta 0:00:00\n",
      "Installing collected packages: langchain-community\n",
      "Successfully installed langchain-community-0.2.0\n",
      "Note: you may need to restart the kernel to use updated packages.\n"
     ]
    }
   ],
   "source": [
    "pip install openai pinecone -U langchain-community"
   ]
  },
  {
   "cell_type": "code",
   "execution_count": 10,
   "metadata": {},
   "outputs": [],
   "source": [
    "import os\n",
    "import openai\n",
    "import pinecone\n",
    "from langchain.document_loaders import DirectoryLoader\n",
    "from langchain.text_splitter import RecursiveCharacterTextSplitter\n",
    "from langchain.embeddings.openai import OpenAIEmbeddings\n",
    "from langchain.vectorstores import Pinecone\n",
    "from langchain.llms import OpenAI\n",
    "from langchain.chains.question_answering import load_qa_chain\n"
   ]
  },
  {
   "cell_type": "code",
   "execution_count": 14,
   "metadata": {},
   "outputs": [
    {
     "data": {
      "text/plain": [
       "1"
      ]
     },
     "execution_count": 14,
     "metadata": {},
     "output_type": "execute_result"
    }
   ],
   "source": [
    "directory = './files'\n",
    "\n",
    "def load_docs(directory):\n",
    "  loader = DirectoryLoader(directory)\n",
    "  documents = loader.load()\n",
    "  return documents\n",
    "\n",
    "documents = load_docs(directory)\n",
    "len(documents)\n"
   ]
  },
  {
   "cell_type": "code",
   "execution_count": 15,
   "metadata": {},
   "outputs": [
    {
     "name": "stdout",
     "output_type": "stream",
     "text": [
      "26\n"
     ]
    }
   ],
   "source": [
    "def split_docs(documents, chunk_size=1000, chunk_overlap=20):\n",
    "  text_splitter = RecursiveCharacterTextSplitter(chunk_size=chunk_size, chunk_overlap=chunk_overlap)\n",
    "  docs = text_splitter.split_documents(documents)\n",
    "  return docs\n",
    "\n",
    "docs = split_docs(documents)\n",
    "print(len(docs))\n"
   ]
  },
  {
   "cell_type": "code",
   "execution_count": 16,
   "metadata": {},
   "outputs": [
    {
     "name": "stdout",
     "output_type": "stream",
     "text": [
      "Note: you may need to restart the kernel to use updated packages.\n"
     ]
    }
   ],
   "source": [
    "pip install tiktoken -q\n"
   ]
  },
  {
   "cell_type": "code",
   "execution_count": 20,
   "metadata": {},
   "outputs": [],
   "source": [
    "!pip install pinecone-client -q\n"
   ]
  },
  {
   "cell_type": "code",
   "execution_count": 19,
   "metadata": {},
   "outputs": [
    {
     "name": "stderr",
     "output_type": "stream",
     "text": [
      "d:\\projects\\searchPDFDefinitionsAndLearn\\.venv\\Lib\\site-packages\\huggingface_hub\\file_download.py:157: UserWarning: `huggingface_hub` cache-system uses symlinks by default to efficiently store duplicated files but your machine does not support them in C:\\Users\\Savely\\.cache\\huggingface\\hub\\models--sentence-transformers--all-mpnet-base-v2. Caching files will still work but in a degraded version that might require more space on your disk. This warning can be disabled by setting the `HF_HUB_DISABLE_SYMLINKS_WARNING` environment variable. For more details, see https://huggingface.co/docs/huggingface_hub/how-to-cache#limitations.\n",
      "To support symlinks on Windows, you either need to activate Developer Mode or to run Python as an administrator. In order to see activate developer mode, see this article: https://docs.microsoft.com/en-us/windows/apps/get-started/enable-your-device-for-development\n",
      "  warnings.warn(message)\n",
      "d:\\projects\\searchPDFDefinitionsAndLearn\\.venv\\Lib\\site-packages\\huggingface_hub\\file_download.py:1132: FutureWarning: `resume_download` is deprecated and will be removed in version 1.0.0. Downloads always resume when possible. If you want to force a new download, use `force_download=True`.\n",
      "  warnings.warn(\n"
     ]
    },
    {
     "data": {
      "text/plain": [
       "768"
      ]
     },
     "execution_count": 19,
     "metadata": {},
     "output_type": "execute_result"
    }
   ],
   "source": [
    "from sentence_transformers import SentenceTransformer\n",
    "\n",
    "model = SentenceTransformer('all-mpnet-base-v2')\n",
    "query_result = model.encode(\"Hello wordls\")\n",
    "len(query_result)\n"
   ]
  }
 ],
 "metadata": {
  "kernelspec": {
   "display_name": ".venv",
   "language": "python",
   "name": "python3"
  },
  "language_info": {
   "codemirror_mode": {
    "name": "ipython",
    "version": 3
   },
   "file_extension": ".py",
   "mimetype": "text/x-python",
   "name": "python",
   "nbconvert_exporter": "python",
   "pygments_lexer": "ipython3",
   "version": "3.12.3"
  }
 },
 "nbformat": 4,
 "nbformat_minor": 2
}
